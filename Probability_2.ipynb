{
  "cells": [
    {
      "cell_type": "markdown",
      "metadata": {
        "id": "view-in-github"
      },
      "source": [
        "<a href=\"https://colab.research.google.com/github/anumit-web/ML-Analytics-Portfolio-2024/blob/main/3.%20A_B_Testing/A_B_testing_1.ipynb\" target=\"_parent\"><img src=\"https://colab.research.google.com/assets/colab-badge.svg\" alt=\"Open In Colab\"/></a>"
      ]
    },
    {
      "cell_type": "markdown",
      "metadata": {
        "id": "6O4nPYifWyAg"
      },
      "source": [
        "# Mathematics\n",
        "# Probability"
      ]
    },
    {
      "cell_type": "markdown",
      "source": [
        "# Combinations and Permutations"
      ],
      "metadata": {
        "id": "44ZYmwEA_hqv"
      }
    },
    {
      "cell_type": "markdown",
      "source": [
        "## Combinations"
      ],
      "metadata": {
        "id": "WqW2kstyAStl"
      }
    },
    {
      "cell_type": "markdown",
      "source": [
        "\n",
        "Sometimes, we want to count all of the possible ways that a single set of objects can be selected - without regard to the order in which they are selected.\n",
        "\n",
        "In general, n objects can be arranged in n(n - 1)(n - 2) ... (3)(2)(1) ways"
      ],
      "metadata": {
        "id": "lPK5c3FNANFd"
      }
    },
    {
      "cell_type": "markdown",
      "source": [
        "The number of combinations of n objects taken r at a time is denoted by nCr."
      ],
      "metadata": {
        "id": "zh_OCg2HAqYu"
      }
    },
    {
      "cell_type": "markdown",
      "source": [
        "nCr = n(n - 1)(n - 2) ... (n - r + 1)/r! = n! / r!(n - r)!"
      ],
      "metadata": {
        "id": "7GG6w1qIAwPS"
      }
    },
    {
      "cell_type": "markdown",
      "source": [
        "n! / r!(n - r)!"
      ],
      "metadata": {
        "id": "Kr4AIuirA1ms"
      }
    },
    {
      "cell_type": "markdown",
      "source": [
        "### 2 letters out of 3"
      ],
      "metadata": {
        "id": "zUYa70YXA90G"
      }
    },
    {
      "cell_type": "markdown",
      "source": [
        "How many different ways can you select 2 letters from the set of letters: X, Y, and Z? (Hint: In this problem, order is NOT important; i.e., XY is considered the same selection as YX.)"
      ],
      "metadata": {
        "id": "9s0AX4z8BS3k"
      }
    },
    {
      "cell_type": "markdown",
      "source": [
        "3C2 = 3! / 2!(3 - 2)! = 3! /2!1! = (3)(2)(1)/(2)(1)(1) = 3"
      ],
      "metadata": {
        "id": "HZG9fikhBjwM"
      }
    },
    {
      "cell_type": "code",
      "source": [
        "# prompt: How many different ways can you select 2 letters from the set of letters: X, Y, and Z? (Hint: In this problem, order is NOT important; i.e., XY is considered the same selection as YX.)\n",
        "\n",
        "import math\n",
        "\n",
        "def combinations(n, r):\n",
        "  \"\"\"Calculates the number of combinations of n items taken r at a time.\"\"\"\n",
        "  return math.comb(n, r)\n",
        "\n",
        "# Number of ways to select 2 letters from a set of 3 letters (X, Y, Z)\n",
        "n = 3  # Total number of letters\n",
        "r = 2  # Number of letters to select\n",
        "num_combinations = combinations(n, r)\n",
        "\n",
        "print(f\"The number of ways to select 2 letters from {n} is: {num_combinations}\")\n"
      ],
      "metadata": {
        "colab": {
          "base_uri": "https://localhost:8080/"
        },
        "id": "Lxr8OWLfBWgG",
        "outputId": "d2c03920-5597-4dc2-db2c-13221d636b42"
      },
      "execution_count": 10,
      "outputs": [
        {
          "output_type": "stream",
          "name": "stdout",
          "text": [
            "The number of ways to select 2 letters from 3 is: 3\n"
          ]
        }
      ]
    },
    {
      "cell_type": "markdown",
      "source": [
        "### Pizza problem"
      ],
      "metadata": {
        "id": "MTC_cp6QCvtZ"
      }
    },
    {
      "cell_type": "markdown",
      "source": [
        "A pizza place offers 10 different toppings. How many different 3-topping pizzas can be made?"
      ],
      "metadata": {
        "id": "CRcbMZRNC7cp"
      }
    },
    {
      "cell_type": "markdown",
      "source": [
        "### Club"
      ],
      "metadata": {
        "id": "bYypVOh5EwIx"
      }
    },
    {
      "cell_type": "markdown",
      "source": [
        "A club has 15 members. In how many ways can a committee of 5 members be selected?"
      ],
      "metadata": {
        "id": "D1DuyctVEwe9"
      }
    },
    {
      "cell_type": "markdown",
      "source": [
        "C(10,3)=  10! / 3!(10−3)! =\n",
        "10! / 3! 7! =\n",
        "10×9×8 / 3x2x1 =\n",
        "​= 120"
      ],
      "metadata": {
        "id": "Huk5_ptcEAOE"
      }
    },
    {
      "cell_type": "code",
      "source": [
        "# prompt: A pizza place offers 10 different toppings. How many different 3-topping pizzas can be made?\n",
        "\n",
        "import math\n",
        "\n",
        "def combinations(n, r):\n",
        "  \"\"\"Calculates the number of combinations of n items taken r at a time.\"\"\"\n",
        "  return math.comb(n, r)\n",
        "\n",
        "# Pizza problem\n",
        "n = 10  # Total number of toppings\n",
        "r = 3  # Number of toppings to choose\n",
        "\n",
        "num_combinations = combinations(n, r)\n",
        "print(f\"The number of different 3-topping pizzas that can be made is: {num_combinations}\")\n"
      ],
      "metadata": {
        "colab": {
          "base_uri": "https://localhost:8080/"
        },
        "id": "8_1opXNQEjFk",
        "outputId": "31795129-3241-49f9-fda4-40112b832bd2"
      },
      "execution_count": 11,
      "outputs": [
        {
          "output_type": "stream",
          "name": "stdout",
          "text": [
            "The number of different 3-topping pizzas that can be made is: 120\n"
          ]
        }
      ]
    },
    {
      "cell_type": "markdown",
      "source": [
        "### Lottery problem"
      ],
      "metadata": {
        "id": "efOLgxITFH5T"
      }
    },
    {
      "cell_type": "markdown",
      "source": [
        "In a lottery, you must choose 6 numbers out of 49. How many different combinations are possible?"
      ],
      "metadata": {
        "id": "YVVLQWtHFQCc"
      }
    },
    {
      "cell_type": "code",
      "source": [
        "# prompt: In a lottery, you must choose 6 numbers out of 49. How many different combinations are possible?\n",
        "\n",
        "import math\n",
        "\n",
        "def combinations(n, r):\n",
        "  \"\"\"Calculates the number of combinations of n items taken r at a time.\"\"\"\n",
        "  return math.comb(n, r)\n",
        "\n",
        "# Lottery problem\n",
        "n = 49  # Total number of numbers\n",
        "r = 6  # Number of numbers to choose\n",
        "\n",
        "num_combinations = combinations(n, r)\n",
        "print(f\"The number of different combinations possible in the lottery is: {num_combinations}\")\n"
      ],
      "metadata": {
        "colab": {
          "base_uri": "https://localhost:8080/"
        },
        "id": "M5f10bL9FREc",
        "outputId": "da15fc81-cca9-40f7-a90c-a8a7a147e0ff"
      },
      "execution_count": 12,
      "outputs": [
        {
          "output_type": "stream",
          "name": "stdout",
          "text": [
            "The number of different combinations possible in the lottery is: 13983816\n"
          ]
        }
      ]
    }
  ],
  "metadata": {
    "colab": {
      "provenance": []
    },
    "kernelspec": {
      "display_name": "Python 3",
      "name": "python3"
    },
    "language_info": {
      "name": "python"
    }
  },
  "nbformat": 4,
  "nbformat_minor": 0
}