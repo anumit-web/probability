{
  "cells": [
    {
      "cell_type": "markdown",
      "metadata": {
        "id": "view-in-github"
      },
      "source": [
        "<a href=\"https://colab.research.google.com/github/anumit-web/ML-Analytics-Portfolio-2024/blob/main/3.%20A_B_Testing/A_B_testing_1.ipynb\" target=\"_parent\"><img src=\"https://colab.research.google.com/assets/colab-badge.svg\" alt=\"Open In Colab\"/></a>"
      ]
    },
    {
      "cell_type": "markdown",
      "metadata": {
        "id": "6O4nPYifWyAg"
      },
      "source": [
        "# Mathematics\n",
        "# Probability"
      ]
    },
    {
      "cell_type": "markdown",
      "source": [
        "# Combinations and Permutations"
      ],
      "metadata": {
        "id": "44ZYmwEA_hqv"
      }
    },
    {
      "cell_type": "markdown",
      "source": [
        "combinations (order doesn’t matter) from permutations (order matters)."
      ],
      "metadata": {
        "id": "FqM0BhdRKdAz"
      }
    },
    {
      "cell_type": "markdown",
      "source": [
        "## Combinations"
      ],
      "metadata": {
        "id": "WqW2kstyAStl"
      }
    },
    {
      "cell_type": "markdown",
      "source": [
        "\n",
        "Sometimes, we want to count all of the possible ways that a single set of objects can be selected - without regard to the order in which they are selected.\n",
        "\n",
        "In general, n objects can be arranged in n(n - 1)(n - 2) ... (3)(2)(1) ways"
      ],
      "metadata": {
        "id": "lPK5c3FNANFd"
      }
    },
    {
      "cell_type": "markdown",
      "source": [
        "The number of combinations of n objects taken r at a time is denoted by nCr."
      ],
      "metadata": {
        "id": "zh_OCg2HAqYu"
      }
    },
    {
      "cell_type": "markdown",
      "source": [
        "nCr = n(n - 1)(n - 2) ... (n - r + 1)/r! = n! / r!(n - r)!"
      ],
      "metadata": {
        "id": "7GG6w1qIAwPS"
      }
    },
    {
      "cell_type": "markdown",
      "source": [
        "n! / r!(n - r)!"
      ],
      "metadata": {
        "id": "Kr4AIuirA1ms"
      }
    },
    {
      "cell_type": "markdown",
      "source": [
        "### 2 letters out of 3"
      ],
      "metadata": {
        "id": "zUYa70YXA90G"
      }
    },
    {
      "cell_type": "markdown",
      "source": [
        "How many different ways can you select 2 letters from the set of letters: X, Y, and Z? (Hint: In this problem, order is NOT important; i.e., XY is considered the same selection as YX.)"
      ],
      "metadata": {
        "id": "9s0AX4z8BS3k"
      }
    },
    {
      "cell_type": "markdown",
      "source": [
        "3C2 = 3! / 2!(3 - 2)! = 3! /2!1! = (3)(2)(1)/(2)(1)(1) = 3"
      ],
      "metadata": {
        "id": "HZG9fikhBjwM"
      }
    },
    {
      "cell_type": "code",
      "source": [
        "# prompt: How many different ways can you select 2 letters from the set of letters: X, Y, and Z? (Hint: In this problem, order is NOT important; i.e., XY is considered the same selection as YX.)\n",
        "\n",
        "import math\n",
        "\n",
        "def combinations(n, r):\n",
        "  \"\"\"Calculates the number of combinations of n items taken r at a time.\"\"\"\n",
        "  return math.comb(n, r)\n",
        "\n",
        "# Number of ways to select 2 letters from a set of 3 letters (X, Y, Z)\n",
        "n = 3  # Total number of letters\n",
        "r = 2  # Number of letters to select\n",
        "num_combinations = combinations(n, r)\n",
        "\n",
        "print(f\"The number of ways to select 2 letters from {n} is: {num_combinations}\")\n"
      ],
      "metadata": {
        "colab": {
          "base_uri": "https://localhost:8080/"
        },
        "id": "Lxr8OWLfBWgG",
        "outputId": "9fbb5c4c-c084-4a48-9327-7e7b98dde481"
      },
      "execution_count": 61,
      "outputs": [
        {
          "output_type": "stream",
          "name": "stdout",
          "text": [
            "The number of ways to select 2 letters from 3 is: 3\n"
          ]
        }
      ]
    },
    {
      "cell_type": "markdown",
      "source": [
        "### Pizza problem"
      ],
      "metadata": {
        "id": "MTC_cp6QCvtZ"
      }
    },
    {
      "cell_type": "markdown",
      "source": [
        "A pizza place offers 10 different toppings. How many different 3-topping pizzas can be made?"
      ],
      "metadata": {
        "id": "CRcbMZRNC7cp"
      }
    },
    {
      "cell_type": "markdown",
      "source": [
        "### Club"
      ],
      "metadata": {
        "id": "bYypVOh5EwIx"
      }
    },
    {
      "cell_type": "markdown",
      "source": [
        "A club has 15 members. In how many ways can a committee of 5 members be selected?"
      ],
      "metadata": {
        "id": "D1DuyctVEwe9"
      }
    },
    {
      "cell_type": "markdown",
      "source": [
        "C(10,3)=  10! / 3!(10−3)! =\n",
        "10! / 3! 7! =\n",
        "10×9×8 / 3x2x1 =\n",
        "​= 120"
      ],
      "metadata": {
        "id": "Huk5_ptcEAOE"
      }
    },
    {
      "cell_type": "code",
      "source": [
        "# prompt: A pizza place offers 10 different toppings. How many different 3-topping pizzas can be made?\n",
        "\n",
        "import math\n",
        "\n",
        "def combinations(n, r):\n",
        "  \"\"\"Calculates the number of combinations of n items taken r at a time.\"\"\"\n",
        "  return math.comb(n, r)\n",
        "\n",
        "# Pizza problem\n",
        "n = 10  # Total number of toppings\n",
        "r = 3  # Number of toppings to choose\n",
        "\n",
        "num_combinations = combinations(n, r)\n",
        "print(f\"The number of different 3-topping pizzas that can be made is: {num_combinations}\")\n"
      ],
      "metadata": {
        "colab": {
          "base_uri": "https://localhost:8080/"
        },
        "id": "8_1opXNQEjFk",
        "outputId": "a0a213c6-c187-4b97-a2c6-24d91bd9eaaf"
      },
      "execution_count": 62,
      "outputs": [
        {
          "output_type": "stream",
          "name": "stdout",
          "text": [
            "The number of different 3-topping pizzas that can be made is: 120\n"
          ]
        }
      ]
    },
    {
      "cell_type": "markdown",
      "source": [
        "### Lottery problem"
      ],
      "metadata": {
        "id": "efOLgxITFH5T"
      }
    },
    {
      "cell_type": "markdown",
      "source": [
        "In a lottery, you must choose 6 numbers out of 49. How many different combinations are possible?"
      ],
      "metadata": {
        "id": "YVVLQWtHFQCc"
      }
    },
    {
      "cell_type": "code",
      "source": [
        "# prompt: In a lottery, you must choose 6 numbers out of 49. How many different combinations are possible?\n",
        "\n",
        "import math\n",
        "\n",
        "def combinations(n, r):\n",
        "  \"\"\"Calculates the number of combinations of n items taken r at a time.\"\"\"\n",
        "  return math.comb(n, r)\n",
        "\n",
        "# Lottery problem\n",
        "n = 49  # Total number of numbers\n",
        "r = 6  # Number of numbers to choose\n",
        "\n",
        "num_combinations = combinations(n, r)\n",
        "print(f\"The number of different combinations possible in the lottery is: {num_combinations}\")\n"
      ],
      "metadata": {
        "colab": {
          "base_uri": "https://localhost:8080/"
        },
        "id": "M5f10bL9FREc",
        "outputId": "9c791804-4e8f-41c2-e272-0ef3bb9e2b40"
      },
      "execution_count": 63,
      "outputs": [
        {
          "output_type": "stream",
          "name": "stdout",
          "text": [
            "The number of different combinations possible in the lottery is: 13983816\n"
          ]
        }
      ]
    },
    {
      "cell_type": "markdown",
      "source": [
        "### Order of salami, ham, and turkey on a sandwich"
      ],
      "metadata": {
        "id": "SgO8fX2xGuhT"
      }
    },
    {
      "cell_type": "markdown",
      "source": [
        "Find the number of combinations of putting salami, ham, and turkey on sandwich"
      ],
      "metadata": {
        "id": "LjrNinwTHReR"
      }
    },
    {
      "cell_type": "code",
      "source": [
        "# prompt: Find the number of combinations of putting salami, ham, and turkey on sandwich, one on top of other\n",
        "\n",
        "import math\n",
        "\n",
        "def combinations(n, r):\n",
        "  \"\"\"Calculates the number of combinations of n items taken r at a time.\"\"\"\n",
        "  return math.comb(n, r)\n",
        "\n",
        "# Total number of meats\n",
        "n = 3  # salami, ham, turkey\n",
        "\n",
        "# Calculate the total number of combinations, including the case with no meat\n",
        "total_combinations = math.factorial(n)\n",
        "\n",
        "print(f\"The number of combinations for putting salami, ham, and turkey on a sandwich is: {total_combinations}\")\n"
      ],
      "metadata": {
        "colab": {
          "base_uri": "https://localhost:8080/"
        },
        "id": "e9p2Qad1JFNJ",
        "outputId": "a5aa8c0b-c510-4b1a-d0a2-4475798a646d"
      },
      "execution_count": 64,
      "outputs": [
        {
          "output_type": "stream",
          "name": "stdout",
          "text": [
            "The number of combinations for putting salami, ham, and turkey on a sandwich is: 6\n"
          ]
        }
      ]
    },
    {
      "cell_type": "markdown",
      "source": [
        "### Picking a team of 3 people from a group of 10"
      ],
      "metadata": {
        "id": "PNEGGepmKshY"
      }
    },
    {
      "cell_type": "code",
      "source": [
        "# prompt: Picking a team of 3 people from a group of 10.\n",
        "\n",
        "import math\n",
        "\n",
        "def combinations(n, r):\n",
        "  \"\"\"Calculates the number of combinations of n items taken r at a time.\"\"\"\n",
        "  return math.comb(n, r)\n",
        "\n",
        "# Picking a team of 3 people from a group of 10\n",
        "n = 10  # Total number of people\n",
        "r = 3  # Number of people to select\n",
        "\n",
        "num_combinations = combinations(n, r)\n",
        "print(f\"The number of ways to pick a team of 3 people from a group of 10 is: {num_combinations}\")\n"
      ],
      "metadata": {
        "colab": {
          "base_uri": "https://localhost:8080/"
        },
        "id": "QlNXGl8qLBHy",
        "outputId": "9735c53d-afb9-4e3f-c2d8-c2f75aec086a"
      },
      "execution_count": 65,
      "outputs": [
        {
          "output_type": "stream",
          "name": "stdout",
          "text": [
            "The number of ways to pick a team of 3 people from a group of 10 is: 120\n"
          ]
        }
      ]
    },
    {
      "cell_type": "markdown",
      "source": [
        "### Choosing 3 desserts from a menu of 10"
      ],
      "metadata": {
        "id": "GfExgzoBKyAr"
      }
    },
    {
      "cell_type": "code",
      "source": [
        "# prompt: Choosing 3 desserts from a menu of 10\n",
        "\n",
        "import math\n",
        "\n",
        "def combinations(n, r):\n",
        "  \"\"\"Calculates the number of combinations of n items taken r at a time.\"\"\"\n",
        "  return math.comb(n, r)\n",
        "\n",
        "# Choosing 3 desserts from a menu of 10\n",
        "n = 10  # Total number of desserts\n",
        "r = 3  # Number of desserts to choose\n",
        "\n",
        "num_combinations = combinations(n, r)\n",
        "print(f\"The number of ways to choose 3 desserts from a menu of 10 is: {num_combinations}\")\n"
      ],
      "metadata": {
        "colab": {
          "base_uri": "https://localhost:8080/"
        },
        "id": "VABxnWwdK22V",
        "outputId": "43fdacb0-01d2-48b1-ddbd-e74cdcee6722"
      },
      "execution_count": 66,
      "outputs": [
        {
          "output_type": "stream",
          "name": "stdout",
          "text": [
            "The number of ways to choose 3 desserts from a menu of 10 is: 120\n"
          ]
        }
      ]
    },
    {
      "cell_type": "markdown",
      "source": [
        "### Out of a group of 5 people, a pair needs to be formed."
      ],
      "metadata": {
        "id": "iohP0A7sL7c6"
      }
    },
    {
      "cell_type": "markdown",
      "source": [
        "Out of a group of 5 people, a pair needs to be formed. The number of possible combinations can be calculated as follows."
      ],
      "metadata": {
        "id": "VlhpWk0ZMK7v"
      }
    },
    {
      "cell_type": "code",
      "source": [
        "# prompt: Out of a group of 5 people, a pair needs to be formed. The number of possible combinations can be calculated as follows.\n",
        "\n",
        "import math\n",
        "\n",
        "def combinations(n, r):\n",
        "  \"\"\"Calculates the number of combinations of n items taken r at a time.\"\"\"\n",
        "  return math.comb(n, r)\n",
        "\n",
        "# Out of a group of 5 people, a pair needs to be formed\n",
        "n = 5  # Total number of people\n",
        "r = 2  # Number of people to select for a pair\n",
        "\n",
        "num_combinations = combinations(n, r)\n",
        "print(f\"The number of ways to form a pair from a group of {n} people is: {num_combinations}\")\n"
      ],
      "metadata": {
        "colab": {
          "base_uri": "https://localhost:8080/"
        },
        "id": "P7UB9SF7MKED",
        "outputId": "e69e9666-a087-4a44-c455-169293a68a7d"
      },
      "execution_count": 67,
      "outputs": [
        {
          "output_type": "stream",
          "name": "stdout",
          "text": [
            "The number of ways to form a pair from a group of 5 people is: 10\n"
          ]
        }
      ]
    },
    {
      "cell_type": "markdown",
      "source": [
        "### The number of 4-letter Combinations which can be made from the letters of the word DRIVEN"
      ],
      "metadata": {
        "id": "2EOHlh2VMeE0"
      }
    },
    {
      "cell_type": "markdown",
      "source": [
        "The number of 4-letter Combinations which can be made from the letters of the word DRIVEN is"
      ],
      "metadata": {
        "id": "3s53BO1_Mhl7"
      }
    },
    {
      "cell_type": "code",
      "source": [
        "# prompt: The number of 4-letter Combinations which can be made from the letters of the word DRIVEN is\n",
        "\n",
        "import math\n",
        "\n",
        "def combinations(n, r):\n",
        "  \"\"\"Calculates the number of combinations of n items taken r at a time.\"\"\"\n",
        "  return math.comb(n, r)\n",
        "\n",
        "# The word DRIVEN has 5 distinct letters.\n",
        "n = 5  # Total number of letters\n",
        "r = 4  # Number of letters to choose\n",
        "\n",
        "num_combinations = combinations(n, r)\n",
        "print(f\"The number of 4-letter combinations from the word DRIVEN is: {num_combinations}\")\n"
      ],
      "metadata": {
        "colab": {
          "base_uri": "https://localhost:8080/"
        },
        "id": "oGf2r_g9MkAi",
        "outputId": "97735e33-4b0e-4db2-e1d7-c2820304da43"
      },
      "execution_count": 68,
      "outputs": [
        {
          "output_type": "stream",
          "name": "stdout",
          "text": [
            "The number of 4-letter combinations from the word DRIVEN is: 5\n"
          ]
        }
      ]
    },
    {
      "cell_type": "markdown",
      "source": [
        "### In the confectioners 5 different icecreams are sold. A father would like to buy 15 caps of icecream for his family. In how many ways can he buy the icecream?"
      ],
      "metadata": {
        "id": "7rEcvqSLNikD"
      }
    },
    {
      "cell_type": "code",
      "source": [
        "# prompt: In the confectioners 5 different icecreams are sold. A father would like to buy 15 caps of icecream for his family. In how many ways can he buy the icecream?\n",
        "\n",
        "import math\n",
        "\n",
        "def combinations_with_replacement(n, r):\n",
        "    \"\"\"Calculates the number of combinations with replacement of n items taken r at a time.\"\"\"\n",
        "    return math.comb(n + r - 1, r)\n",
        "\n",
        "# Ice cream problem\n",
        "n = 5  # Number of different ice creams\n",
        "r = 15  # Number of ice cream caps to buy\n",
        "\n",
        "num_combinations = combinations_with_replacement(n, r)\n",
        "print(f\"The number of ways to buy {r} ice cream caps from {n} different flavors is: {num_combinations}\")\n"
      ],
      "metadata": {
        "colab": {
          "base_uri": "https://localhost:8080/"
        },
        "id": "-7ACdA0SNo2-",
        "outputId": "9d968fab-d759-48b3-8d15-290cc16a349e"
      },
      "execution_count": 69,
      "outputs": [
        {
          "output_type": "stream",
          "name": "stdout",
          "text": [
            "The number of ways to buy 15 ice cream caps from 5 different flavors is: 3876\n"
          ]
        }
      ]
    },
    {
      "cell_type": "markdown",
      "source": [
        "### A business man has 4 dress shirts and 7 ties. How many different shirt/tie outfits can he create?"
      ],
      "metadata": {
        "id": "YWBPWayNPsRo"
      }
    },
    {
      "cell_type": "code",
      "source": [
        "# prompt: A business man has 4 dress shirts and 7 ties. How many different shirt/tie outfits can he create?\n",
        "\n",
        "# A business man has 4 dress shirts and 7 ties. How many different shirt/tie outfits can he create?\n",
        "shirts = 4\n",
        "ties = 7\n",
        "outfits = shirts * ties\n",
        "print(f\"The businessman can create {outfits} different shirt/tie outfits.\")\n"
      ],
      "metadata": {
        "id": "q_ZazY3ZPzrN",
        "colab": {
          "base_uri": "https://localhost:8080/"
        },
        "outputId": "9f3853a4-73a4-4d7c-b4e1-33571f589ecd"
      },
      "execution_count": 70,
      "outputs": [
        {
          "output_type": "stream",
          "name": "stdout",
          "text": [
            "The businessman can create 28 different shirt/tie outfits.\n"
          ]
        }
      ]
    }
  ],
  "metadata": {
    "colab": {
      "provenance": []
    },
    "kernelspec": {
      "display_name": "Python 3",
      "name": "python3"
    },
    "language_info": {
      "name": "python"
    }
  },
  "nbformat": 4,
  "nbformat_minor": 0
}