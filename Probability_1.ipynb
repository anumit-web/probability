{
  "cells": [
    {
      "cell_type": "markdown",
      "metadata": {
        "id": "view-in-github"
      },
      "source": [
        "<a href=\"https://colab.research.google.com/github/anumit-web/ML-Analytics-Portfolio-2024/blob/main/3.%20A_B_Testing/A_B_testing_1.ipynb\" target=\"_parent\"><img src=\"https://colab.research.google.com/assets/colab-badge.svg\" alt=\"Open In Colab\"/></a>"
      ]
    },
    {
      "cell_type": "markdown",
      "source": [
        "# Mathematics\n",
        "# Probability"
      ],
      "metadata": {
        "id": "6O4nPYifWyAg"
      }
    },
    {
      "cell_type": "markdown",
      "source": [
        "How to Interpret Probability\n",
        "Mathematically, the probability that an event will occur is expressed as a number between 0 and 1. Notationally, the probability of event A is represented by P(A).\n",
        "\n",
        "If P(A) equals zero, event A will definitely not occur.\n",
        "\n",
        "If P(A) is close to zero, there is only a small chance that event A will occur.\n",
        "\n",
        "If P(A) equals 0.5, there is a 50-50 chance that event A will occur.\n",
        "\n",
        "If P(A) is close to one, there is a strong chance that event A will occur.\n",
        "\n",
        "If P(A) equals one, event A will definitely occur.\n",
        "\n",
        "In a statistical experiment, the sum of probabilities for all possible outcomes is equal to one.\n",
        "This means, for example, that if an experiment can have three possible outcomes (A, B, and C), then P(A) + P(B) + P(C) = 1."
      ],
      "metadata": {
        "id": "qTPX9npCRK6m"
      }
    },
    {
      "cell_type": "markdown",
      "source": [
        "# Probability"
      ],
      "metadata": {
        "id": "9NzTc2JzWQLC"
      }
    },
    {
      "cell_type": "code",
      "source": [
        "print(\"Probability\")"
      ],
      "metadata": {
        "colab": {
          "base_uri": "https://localhost:8080/"
        },
        "id": "OO8kRs9oWYzC",
        "outputId": "99e098c4-465d-4942-860d-3aaead8b3b5b"
      },
      "execution_count": 63,
      "outputs": [
        {
          "output_type": "stream",
          "name": "stdout",
          "text": [
            "Probability\n"
          ]
        }
      ]
    },
    {
      "cell_type": "code",
      "source": [
        "print(\"Probability of an event happening =  Number of ways it can happen / Total number of outcomes\")"
      ],
      "metadata": {
        "id": "SXVfRjoOZswz",
        "colab": {
          "base_uri": "https://localhost:8080/"
        },
        "outputId": "73c082d3-c6ee-49bc-bcb7-8b3d679f178f"
      },
      "execution_count": 64,
      "outputs": [
        {
          "output_type": "stream",
          "name": "stdout",
          "text": [
            "Probability of an event happening =  Number of ways it can happen / Total number of outcomes\n"
          ]
        }
      ]
    },
    {
      "cell_type": "code",
      "source": [
        "print(\"the probability of the coin landing Head is ½\")"
      ],
      "metadata": {
        "colab": {
          "base_uri": "https://localhost:8080/"
        },
        "id": "B7vBH3GyaYw7",
        "outputId": "218eb577-cf0c-4438-ecc3-67ef7e52b610"
      },
      "execution_count": 65,
      "outputs": [
        {
          "output_type": "stream",
          "name": "stdout",
          "text": [
            "the probability of the coin landing Head is ½\n"
          ]
        }
      ]
    },
    {
      "cell_type": "code",
      "source": [
        "print(\"The probability of tossing a coin is 1/6\")"
      ],
      "metadata": {
        "colab": {
          "base_uri": "https://localhost:8080/"
        },
        "id": "0RjJHqyGakh7",
        "outputId": "a42fea24-4451-47c9-9304-872ad677f0e7"
      },
      "execution_count": 66,
      "outputs": [
        {
          "output_type": "stream",
          "name": "stdout",
          "text": [
            "The probability of tossing a coin is 1/6\n"
          ]
        }
      ]
    },
    {
      "cell_type": "code",
      "source": [
        "print(\"\")"
      ],
      "metadata": {
        "id": "0mskSDHGa1Fh",
        "outputId": "0c535849-2ce1-44c6-ea12-1dabfa1bad30",
        "colab": {
          "base_uri": "https://localhost:8080/"
        }
      },
      "execution_count": 67,
      "outputs": [
        {
          "output_type": "stream",
          "name": "stdout",
          "text": [
            "\n"
          ]
        }
      ]
    },
    {
      "cell_type": "markdown",
      "source": [
        "## Coin toss\n",
        "\n",
        "When a coin is tossed, there are two possible outcomes?\n",
        "\n",
        "Head and tails\n",
        "\n",
        "When you toss a coin what is the probability that Head is shown?\n",
        "\n"
      ],
      "metadata": {
        "id": "6acLi5cELhjk"
      }
    },
    {
      "cell_type": "code",
      "source": [
        "print(\"Number of outcomes = 2\")\n",
        "print(\"Number of ways it can happen = 1\")\n",
        "print(\"Probability = 1/2\")"
      ],
      "metadata": {
        "colab": {
          "base_uri": "https://localhost:8080/"
        },
        "id": "VwoKq8N8Lmt-",
        "outputId": "9958266f-f610-4982-ad63-a9316a1dfa6a"
      },
      "execution_count": 68,
      "outputs": [
        {
          "output_type": "stream",
          "name": "stdout",
          "text": [
            "Number of outcomes = 2\n",
            "Number of ways it can happen = 1\n",
            "Probability = 1/2\n"
          ]
        }
      ]
    },
    {
      "cell_type": "markdown",
      "source": [
        "## Throwing Dice\n"
      ],
      "metadata": {
        "id": "n7USNfYlMrx8"
      }
    },
    {
      "cell_type": "markdown",
      "source": [
        "When a single die is thrown, there are six possible outcomes: 1, 2, 3, 4, 5, 6.\n",
        "\n",
        "When you throw a dice what is the probability that  4 shows up?"
      ],
      "metadata": {
        "id": "lK3D_a1sMu9-"
      }
    },
    {
      "cell_type": "code",
      "source": [
        "print(\"1/6\")"
      ],
      "metadata": {
        "colab": {
          "base_uri": "https://localhost:8080/"
        },
        "id": "DXnOz77TNHj1",
        "outputId": "53d8d1a2-1109-4356-a97c-873ed46951b1"
      },
      "execution_count": 69,
      "outputs": [
        {
          "output_type": "stream",
          "name": "stdout",
          "text": [
            "1/6\n"
          ]
        }
      ]
    },
    {
      "cell_type": "markdown",
      "source": [
        "## Picking ball - 1"
      ],
      "metadata": {
        "id": "aIFhX4FvNtEU"
      }
    },
    {
      "cell_type": "markdown",
      "source": [
        "I have 6 balls in a bag: 3 reds, 2 are green, and 1 is blue.\n",
        "\n",
        "Blindfolded. What is the probability that I pick a green one?\n"
      ],
      "metadata": {
        "id": "iO3b4s93Nxva"
      }
    },
    {
      "cell_type": "code",
      "source": [
        "print(\"Number of Ways it can happen are 2 (there are 2 greens).\")\n",
        "print(\"Number of Outcomes are 6 (there are 6 balls).\")\n",
        "print(\"Probability = Ways / Outcomes\")\n",
        "print(\"probability of picking green ball is 2/6\")"
      ],
      "metadata": {
        "colab": {
          "base_uri": "https://localhost:8080/"
        },
        "id": "gjA812z2N6eB",
        "outputId": "50792de6-835a-4f6f-eb6c-472f7dcb242c"
      },
      "execution_count": 70,
      "outputs": [
        {
          "output_type": "stream",
          "name": "stdout",
          "text": [
            "Number of Ways it can happen are 2 (there are 2 greens).\n",
            "Number of Outcomes are 6 (there are 6 balls).\n",
            "Probability = Ways / Outcomes\n",
            "probability of picking green ball is 2/6\n"
          ]
        }
      ]
    },
    {
      "cell_type": "markdown",
      "source": [
        "## Choosing a King from deck of cards"
      ],
      "metadata": {
        "id": "EgiEPpZvOe0X"
      }
    },
    {
      "cell_type": "markdown",
      "source": [
        "you pick a card from a deck of playing cards.\n",
        "\n",
        "what is the probability that it is a king is?\n"
      ],
      "metadata": {
        "id": "XEV1m62COiGz"
      }
    },
    {
      "cell_type": "code",
      "source": [
        "print(\"Total cards in deck = 52\")\n",
        "print(\"Number of Kings = 4\")\n",
        "print(\"Probability = 4/52\")"
      ],
      "metadata": {
        "colab": {
          "base_uri": "https://localhost:8080/"
        },
        "id": "5fK_GPrXPA4c",
        "outputId": "3b6ff275-d107-4c09-f227-82b06b1866ce"
      },
      "execution_count": 71,
      "outputs": [
        {
          "output_type": "stream",
          "name": "stdout",
          "text": [
            "Total cards in deck = 52\n",
            "Number of Kings = 4\n",
            "Probability = 4/52\n"
          ]
        }
      ]
    },
    {
      "cell_type": "markdown",
      "source": [
        "## Rule of Subtraction"
      ],
      "metadata": {
        "id": "Dm7OJg8iWX3t"
      }
    },
    {
      "cell_type": "markdown",
      "source": [
        "Rule of Subtraction. The probability that event A will occur is equal to 1 minus the probability that event A will not occur.\n",
        "\n",
        "P(A) = 1 - P(A')"
      ],
      "metadata": {
        "id": "ZsDGMMmbWZz0"
      }
    },
    {
      "cell_type": "markdown",
      "source": [
        "Bill will graduate from college is 0.80. What is the probability that Bill will not graduate from college? Based on the rule of subtraction, the probability that Bill will not graduate is 1.00 - 0.80 or 0.20."
      ],
      "metadata": {
        "id": "dYFMMnI9WlY-"
      }
    },
    {
      "cell_type": "markdown",
      "source": [
        "## Rule of Multiplication\n",
        "\n",
        "The rule of multiplication applies to the situation when we want to know the probability of the intersection of two events; that is, we want to know the probability that two events (Event A and Event B) both occur.\n",
        "\n"
      ],
      "metadata": {
        "id": "OVE-s3AlT17n"
      }
    },
    {
      "cell_type": "markdown",
      "source": [
        "An urn contains 6 red marbles and 4 black marbles. Two marbles are drawn without replacement from the urn. What is the probability that both of the marbles are black?"
      ],
      "metadata": {
        "id": "WBa5V7YYSkp_"
      }
    },
    {
      "cell_type": "markdown",
      "source": [],
      "metadata": {
        "id": "XfNIdYGTS55Y"
      }
    },
    {
      "cell_type": "code",
      "source": [
        "# prompt: An urn contains 6 red marbles and 4 black marbles. Two marbles are drawn without replacement from the urn. What is the probability that both of the marbles are black?\n",
        "\n",
        "# Probability of drawing the first black marble: 4 black marbles / 10 total marbles\n",
        "prob_first_black = 4/10\n",
        "\n",
        "# After drawing one black marble, there are 3 black marbles left and 9 total marbles\n",
        "prob_second_black_given_first_black = 3/9\n",
        "\n",
        "# Probability of both events happening:\n",
        "prob_both_black = prob_first_black * prob_second_black_given_first_black\n",
        "\n",
        "print(f\"The probability that both marbles are black is: 12/90,  {prob_both_black}\")\n"
      ],
      "metadata": {
        "id": "iCLGkA_4S6q8",
        "colab": {
          "base_uri": "https://localhost:8080/"
        },
        "outputId": "9f54bd92-78c7-495b-9582-76605d087c46"
      },
      "execution_count": 72,
      "outputs": [
        {
          "output_type": "stream",
          "name": "stdout",
          "text": [
            "The probability that both marbles are black is: 12/90,  0.13333333333333333\n"
          ]
        }
      ]
    }
  ],
  "metadata": {
    "kernelspec": {
      "display_name": "Python 3",
      "name": "python3"
    },
    "language_info": {
      "name": "python"
    },
    "colab": {
      "provenance": []
    }
  },
  "nbformat": 4,
  "nbformat_minor": 0
}