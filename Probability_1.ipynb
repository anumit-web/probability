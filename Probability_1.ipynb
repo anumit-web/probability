{
  "cells": [
    {
      "cell_type": "markdown",
      "metadata": {
        "id": "view-in-github"
      },
      "source": [
        "<a href=\"https://colab.research.google.com/github/anumit-web/ML-Analytics-Portfolio-2024/blob/main/3.%20A_B_Testing/A_B_testing_1.ipynb\" target=\"_parent\"><img src=\"https://colab.research.google.com/assets/colab-badge.svg\" alt=\"Open In Colab\"/></a>"
      ]
    },
    {
      "cell_type": "markdown",
      "metadata": {
        "id": "6O4nPYifWyAg"
      },
      "source": [
        "# Mathematics\n",
        "# Probability"
      ]
    },
    {
      "cell_type": "markdown",
      "metadata": {
        "id": "qTPX9npCRK6m"
      },
      "source": [
        "How to Interpret Probability\n",
        "Mathematically, the probability that an event will occur is expressed as a number between 0 and 1. Notationally, the probability of event A is represented by P(A).\n",
        "\n",
        "If P(A) equals zero, event A will definitely not occur.\n",
        "\n",
        "If P(A) is close to zero, there is only a small chance that event A will occur.\n",
        "\n",
        "If P(A) equals 0.5, there is a 50-50 chance that event A will occur.\n",
        "\n",
        "If P(A) is close to one, there is a strong chance that event A will occur.\n",
        "\n",
        "If P(A) equals one, event A will definitely occur.\n",
        "\n",
        "In a statistical experiment, the sum of probabilities for all possible outcomes is equal to one.\n",
        "This means, for example, that if an experiment can have three possible outcomes (A, B, and C), then P(A) + P(B) + P(C) = 1."
      ]
    },
    {
      "cell_type": "markdown",
      "metadata": {
        "id": "9NzTc2JzWQLC"
      },
      "source": [
        "# Probability"
      ]
    },
    {
      "cell_type": "code",
      "execution_count": null,
      "metadata": {
        "colab": {
          "base_uri": "https://localhost:8080/"
        },
        "id": "OO8kRs9oWYzC",
        "outputId": "55c6ff37-9a00-4da4-e99d-4082767ee970"
      },
      "outputs": [
        {
          "output_type": "stream",
          "name": "stdout",
          "text": [
            "Probability\n"
          ]
        }
      ],
      "source": [
        "print(\"Probability\")"
      ]
    },
    {
      "cell_type": "code",
      "execution_count": null,
      "metadata": {
        "colab": {
          "base_uri": "https://localhost:8080/"
        },
        "id": "SXVfRjoOZswz",
        "outputId": "e2ab4dad-a9c8-4f47-c770-b1bb17b875ed"
      },
      "outputs": [
        {
          "output_type": "stream",
          "name": "stdout",
          "text": [
            "Probability of an event happening =  Number of ways it can happen / Total number of outcomes\n"
          ]
        }
      ],
      "source": [
        "print(\"Probability of an event happening =  Number of ways it can happen / Total number of outcomes\")"
      ]
    },
    {
      "cell_type": "code",
      "execution_count": null,
      "metadata": {
        "colab": {
          "base_uri": "https://localhost:8080/"
        },
        "id": "B7vBH3GyaYw7",
        "outputId": "5c648599-1a3a-4a94-f163-bf7ac1e582a3"
      },
      "outputs": [
        {
          "output_type": "stream",
          "name": "stdout",
          "text": [
            "the probability of the coin landing Head is ½\n"
          ]
        }
      ],
      "source": [
        "print(\"the probability of the coin landing Head is ½\")"
      ]
    },
    {
      "cell_type": "code",
      "execution_count": null,
      "metadata": {
        "colab": {
          "base_uri": "https://localhost:8080/"
        },
        "id": "0RjJHqyGakh7",
        "outputId": "16088125-f196-4d96-cbfd-08cc0f07a64a"
      },
      "outputs": [
        {
          "output_type": "stream",
          "name": "stdout",
          "text": [
            "The probability of tossing a coin is 1/6\n"
          ]
        }
      ],
      "source": [
        "print(\"The probability of tossing a coin is 1/6\")"
      ]
    },
    {
      "cell_type": "code",
      "execution_count": null,
      "metadata": {
        "colab": {
          "base_uri": "https://localhost:8080/"
        },
        "id": "0mskSDHGa1Fh",
        "outputId": "96843bd5-201a-4bb8-a153-622b88d8e790"
      },
      "outputs": [
        {
          "output_type": "stream",
          "name": "stdout",
          "text": [
            "\n"
          ]
        }
      ],
      "source": [
        "print(\"\")"
      ]
    },
    {
      "cell_type": "markdown",
      "metadata": {
        "id": "6acLi5cELhjk"
      },
      "source": [
        "## Coin toss\n",
        "\n",
        "When a coin is tossed, there are two possible outcomes?\n",
        "\n",
        "Head and tails\n",
        "\n",
        "When you toss a coin what is the probability that Head is shown?\n",
        "\n"
      ]
    },
    {
      "cell_type": "code",
      "execution_count": null,
      "metadata": {
        "colab": {
          "base_uri": "https://localhost:8080/"
        },
        "id": "VwoKq8N8Lmt-",
        "outputId": "ae7a66b4-bab3-4575-e0b8-e88d5cffadb7"
      },
      "outputs": [
        {
          "output_type": "stream",
          "name": "stdout",
          "text": [
            "Number of outcomes = 2\n",
            "Number of ways it can happen = 1\n",
            "Probability = 1/2\n"
          ]
        }
      ],
      "source": [
        "print(\"Number of outcomes = 2\")\n",
        "print(\"Number of ways it can happen = 1\")\n",
        "print(\"Probability = 1/2\")"
      ]
    },
    {
      "cell_type": "markdown",
      "metadata": {
        "id": "n7USNfYlMrx8"
      },
      "source": [
        "## Throwing Dice\n"
      ]
    },
    {
      "cell_type": "markdown",
      "metadata": {
        "id": "lK3D_a1sMu9-"
      },
      "source": [
        "When a single die is thrown, there are six possible outcomes: 1, 2, 3, 4, 5, 6.\n",
        "\n",
        "When you throw a dice what is the probability that  4 shows up?"
      ]
    },
    {
      "cell_type": "code",
      "execution_count": null,
      "metadata": {
        "colab": {
          "base_uri": "https://localhost:8080/"
        },
        "id": "DXnOz77TNHj1",
        "outputId": "4b9a1822-7843-4093-9ff4-a4541eeb144c"
      },
      "outputs": [
        {
          "output_type": "stream",
          "name": "stdout",
          "text": [
            "1/6\n"
          ]
        }
      ],
      "source": [
        "print(\"1/6\")"
      ]
    },
    {
      "cell_type": "markdown",
      "metadata": {
        "id": "aIFhX4FvNtEU"
      },
      "source": [
        "## Picking ball - 1"
      ]
    },
    {
      "cell_type": "markdown",
      "metadata": {
        "id": "iO3b4s93Nxva"
      },
      "source": [
        "I have 6 balls in a bag: 3 reds, 2 are green, and 1 is blue.\n",
        "\n",
        "Blindfolded. What is the probability that I pick a green one?\n"
      ]
    },
    {
      "cell_type": "code",
      "execution_count": null,
      "metadata": {
        "colab": {
          "base_uri": "https://localhost:8080/"
        },
        "id": "gjA812z2N6eB",
        "outputId": "d3970a3a-088f-4be6-fa5d-386f96f32202"
      },
      "outputs": [
        {
          "output_type": "stream",
          "name": "stdout",
          "text": [
            "Number of Ways it can happen are 2 (there are 2 greens).\n",
            "Number of Outcomes are 6 (there are 6 balls).\n",
            "Probability = Ways / Outcomes\n",
            "probability of picking green ball is 2/6\n"
          ]
        }
      ],
      "source": [
        "print(\"Number of Ways it can happen are 2 (there are 2 greens).\")\n",
        "print(\"Number of Outcomes are 6 (there are 6 balls).\")\n",
        "print(\"Probability = Ways / Outcomes\")\n",
        "print(\"probability of picking green ball is 2/6\")"
      ]
    },
    {
      "cell_type": "markdown",
      "metadata": {
        "id": "EgiEPpZvOe0X"
      },
      "source": [
        "## Choosing a King from deck of cards"
      ]
    },
    {
      "cell_type": "markdown",
      "metadata": {
        "id": "XEV1m62COiGz"
      },
      "source": [
        "you pick a card from a deck of playing cards.\n",
        "\n",
        "what is the probability that it is a king is?\n"
      ]
    },
    {
      "cell_type": "code",
      "execution_count": null,
      "metadata": {
        "colab": {
          "base_uri": "https://localhost:8080/"
        },
        "id": "5fK_GPrXPA4c",
        "outputId": "9a726e97-bf6c-4c59-ca2d-62319965e5d1"
      },
      "outputs": [
        {
          "output_type": "stream",
          "name": "stdout",
          "text": [
            "Total cards in deck = 52\n",
            "Number of Kings = 4\n",
            "Probability = 4/52\n"
          ]
        }
      ],
      "source": [
        "print(\"Total cards in deck = 52\")\n",
        "print(\"Number of Kings = 4\")\n",
        "print(\"Probability = 4/52\")"
      ]
    },
    {
      "cell_type": "markdown",
      "metadata": {
        "id": "Dm7OJg8iWX3t"
      },
      "source": [
        "## Rule of Subtraction (Complement Rule)"
      ]
    },
    {
      "cell_type": "markdown",
      "metadata": {
        "id": "ZsDGMMmbWZz0"
      },
      "source": [
        "Rule of Subtraction. The probability that event A will occur is equal to 1 minus the probability that event A will not occur.\n",
        "\n",
        "P(A) = 1 - P(A')"
      ]
    },
    {
      "cell_type": "markdown",
      "source": [
        "### Bill college graduation"
      ],
      "metadata": {
        "id": "wtkJoIYs8l6-"
      }
    },
    {
      "cell_type": "markdown",
      "metadata": {
        "id": "dYFMMnI9WlY-"
      },
      "source": [
        "Bill will graduate from college is 0.80. What is the probability that Bill will not graduate from college? Based on the rule of subtraction, the probability that Bill will not graduate is 1.00 - 0.80 or 0.20."
      ]
    },
    {
      "cell_type": "code",
      "source": [
        "# prompt: Bill will graduate from college is 0.80. What is the probability that Bill will not graduate from college? Based on the rule of subtraction, the probability that Bill will not graduate is 1.00 - 0.80 or 0.20\n",
        "\n",
        "# Probability of Bill not aduating from college\n",
        "probability_graduation = 0.80\n",
        "probability_not_graduation = 1.00 - probability_graduation\n",
        "\n",
        "print(f\"The probability that Bill will not graduate from college is: {probability_not_graduation}\")\n"
      ],
      "metadata": {
        "colab": {
          "base_uri": "https://localhost:8080/"
        },
        "id": "ZQ4Xl4eT5Lpj",
        "outputId": "b3cded46-b5b1-4622-bb67-97184ee71f71"
      },
      "execution_count": null,
      "outputs": [
        {
          "output_type": "stream",
          "name": "stdout",
          "text": [
            "The probability that Bill will not graduate from college is: 0.19999999999999996\n"
          ]
        }
      ]
    },
    {
      "cell_type": "markdown",
      "source": [
        "### Rain tomorrow"
      ],
      "metadata": {
        "id": "6vNWqmR28wtN"
      }
    },
    {
      "cell_type": "code",
      "source": [
        "# prompt: If the probability that it rains tomorrow is 0.6, what is the probability that it does not rain tomorrow?\n",
        "\n",
        "probability_rain = 0.6\n",
        "probability_no_rain = 1 - probability_rain\n",
        "\n",
        "print(f\"The probability that it does not rain tomorrow is: {probability_no_rain}\")\n"
      ],
      "metadata": {
        "id": "PEWHjtw382_k"
      },
      "execution_count": null,
      "outputs": []
    },
    {
      "cell_type": "markdown",
      "metadata": {
        "id": "OVE-s3AlT17n"
      },
      "source": [
        "## Rule of Multiplication\n",
        "\n",
        "The rule of multiplication applies to the situation when we want to know the probability of the intersection of two events; that is, we want to know the probability that two events (Event A and Event B) both occur.\n",
        "\n"
      ]
    },
    {
      "cell_type": "markdown",
      "metadata": {
        "id": "lxFXiavRzvhS"
      },
      "source": [
        "If the events are independent, the formula is:\n",
        "\n",
        "P(A and B) = P(A) * P(B)\n",
        "\n",
        "If the events are dependent, the formula is:\n",
        "\n",
        "P(A and B) = P(A) * P(B|A)"
      ]
    },
    {
      "cell_type": "markdown",
      "metadata": {
        "id": "ZzkWnBICe5YF"
      },
      "source": [
        "### Urn with red and black color marbles"
      ]
    },
    {
      "cell_type": "markdown",
      "metadata": {
        "id": "WBa5V7YYSkp_"
      },
      "source": [
        "An urn contains 6 red marbles and 4 black marbles. Two marbles are drawn without replacement from the urn. What is the probability that both of the marbles are black?"
      ]
    },
    {
      "cell_type": "markdown",
      "metadata": {
        "id": "XfNIdYGTS55Y"
      },
      "source": []
    },
    {
      "cell_type": "code",
      "execution_count": null,
      "metadata": {
        "colab": {
          "base_uri": "https://localhost:8080/"
        },
        "id": "iCLGkA_4S6q8",
        "outputId": "78852338-ba4b-4d02-e9f8-d85e7688faf5"
      },
      "outputs": [
        {
          "output_type": "stream",
          "name": "stdout",
          "text": [
            "The probability that both marbles are black is: 12/90,  0.13333333333333333\n"
          ]
        }
      ],
      "source": [
        "# prompt: An urn contains 6 red marbles and 4 black marbles. Two marbles are drawn without replacement from the urn. What is the probability that both of the marbles are black?\n",
        "\n",
        "# Probability of drawing the first black marble: 4 black marbles / 10 total marbles\n",
        "prob_first_black = 4/10\n",
        "\n",
        "# After drawing one black marble, there are 3 black marbles left and 9 total marbles\n",
        "prob_second_black_given_first_black = 3/9\n",
        "\n",
        "# Probability of both events happening:\n",
        "prob_both_black = prob_first_black * prob_second_black_given_first_black\n",
        "\n",
        "print(f\"The probability that both marbles are black is: 12/90,  {prob_both_black}\")\n"
      ]
    },
    {
      "cell_type": "markdown",
      "metadata": {
        "id": "_hm2W1IhXy0o"
      },
      "source": [
        "The probability of drawing an ace of spades and then a heart from a deck of cards"
      ]
    },
    {
      "cell_type": "code",
      "execution_count": null,
      "metadata": {
        "colab": {
          "base_uri": "https://localhost:8080/"
        },
        "id": "yX_NRUW4X0WT",
        "outputId": "0b7f1d8e-b064-4ac1-d96d-a96be5f3f49e"
      },
      "outputs": [
        {
          "output_type": "stream",
          "name": "stdout",
          "text": [
            "The probability of drawing the ace of spades and then a heart is: : (1/52) * (13/51) = 1/221, >  0.004901960784313725\n"
          ]
        }
      ],
      "source": [
        "# prompt: The probability of drawing an ace of spades and then a heart from a deck of cards\n",
        "\n",
        "# Probability of drawing the ace of spades: 1/52\n",
        "prob_ace_of_spades = 1/52\n",
        "\n",
        "# After drawing the ace of spades, there are 51 cards left.\n",
        "# Probability of drawing a heart: 13 hearts / 51 total cards\n",
        "# Initially, the deck has 13 hearts out of its 52 cards\n",
        "# Initially, the deck has 13 spades out of its 52 cards\n",
        "prob_heart_after_ace_of_spades = 13/51\n",
        "\n",
        "# Probability of both events happening:\n",
        "prob_ace_of_spades_then_heart = prob_ace_of_spades * prob_heart_after_ace_of_spades\n",
        "\n",
        "print(f\"The probability of drawing the ace of spades and then a heart is: : (1/52) * (13/51) = 1/221, >  {prob_ace_of_spades_then_heart}\")\n"
      ]
    },
    {
      "cell_type": "markdown",
      "metadata": {
        "id": "G56WMpk5a2uL"
      },
      "source": [
        "you draw a heart (event H1), that changes the probability of drawing another heart"
      ]
    },
    {
      "cell_type": "code",
      "execution_count": null,
      "metadata": {
        "colab": {
          "base_uri": "https://localhost:8080/"
        },
        "id": "5JyDxZwBZiSg",
        "outputId": "64706f12-a2d2-4387-9885-847b07295d27"
      },
      "outputs": [
        {
          "output_type": "stream",
          "name": "stdout",
          "text": [
            "The probability of drawing two hearts in a row is: 13/52 * 12/51 = 1/17, >  0.058823529411764705\n"
          ]
        }
      ],
      "source": [
        "# prompt: you draw a heart (event H1), that changes the probability of drawing another heart\n",
        "\n",
        "# You draw a heart (event H1), that changes the probability of drawing another heart\n",
        "\n",
        "# Initial probability of drawing a heart (assuming a standard 52-card deck)\n",
        "initial_hearts = 13\n",
        "initial_total_cards = 52\n",
        "prob_h1 = initial_hearts / initial_total_cards\n",
        "\n",
        "# After drawing one heart, the number of hearts and total cards decrease\n",
        "remaining_hearts_after_h1 = initial_hearts - 1\n",
        "remaining_total_cards_after_h1 = initial_total_cards - 1\n",
        "prob_h2_given_h1 = remaining_hearts_after_h1 / remaining_total_cards_after_h1\n",
        "\n",
        "# Probability of drawing two hearts in a row\n",
        "probability_two_hearts = prob_h1 * prob_h2_given_h1\n",
        "\n",
        "print(f\"The probability of drawing two hearts in a row is: 13/52 * 12/51 = 1/17, >  {probability_two_hearts}\")\n"
      ]
    },
    {
      "cell_type": "markdown",
      "metadata": {
        "id": "27HcfE5Seznn"
      },
      "source": [
        "### Dependent Events: Tan Pants and Blue Shirts Example"
      ]
    },
    {
      "cell_type": "markdown",
      "metadata": {
        "id": "BxPgI4fWqMsb"
      },
      "source": [
        "### 10 pants, 3 are tan, draw 2"
      ]
    },
    {
      "cell_type": "markdown",
      "metadata": {
        "id": "31gn0M88edUw"
      },
      "source": [
        "We begin with 10 pairs of pants, three of which are tan.\n",
        "We’re hoping for two pairs of tan pants"
      ]
    },
    {
      "cell_type": "code",
      "execution_count": null,
      "metadata": {
        "colab": {
          "base_uri": "https://localhost:8080/"
        },
        "id": "y85CLtuxemMO",
        "outputId": "691b1764-00bd-4296-a33a-064e4efa4047"
      },
      "outputs": [
        {
          "output_type": "stream",
          "name": "stdout",
          "text": [
            "The probability of picking two pairs of tan pants is: 3/10 * 2/9 = 1/15, >  0.06666666666666667\n"
          ]
        }
      ],
      "source": [
        "# prompt: We begin with 10 pairs of pants, three of which are tan. We’re hoping for two pairs of tan pants\n",
        "\n",
        "# Probability of picking the first pair of tan pants:\n",
        "prob_first_tan = 3/10\n",
        "\n",
        "# After picking one tan pair, there are 2 tan pairs left and 9 total pairs\n",
        "prob_second_tan_given_first_tan = 2/9\n",
        "\n",
        "# Probability of picking two tan pairs:\n",
        "prob_two_tan = prob_first_tan * prob_second_tan_given_first_tan\n",
        "\n",
        "print(f\"The probability of picking two pairs of tan pants is: 3/10 * 2/9 = 1/15, >  {prob_two_tan}\")\n"
      ]
    },
    {
      "cell_type": "markdown",
      "metadata": {
        "id": "E29g1pVurWvF"
      },
      "source": [
        "### 16 shirts, 4 are blue, draw 2"
      ]
    },
    {
      "cell_type": "markdown",
      "metadata": {
        "id": "Rj8vQNY-qlpd"
      },
      "source": [
        "we start with four blue shirts out of 16 total shirts.\n",
        "\n",
        "draw 2 blue shirts"
      ]
    },
    {
      "cell_type": "code",
      "execution_count": null,
      "metadata": {
        "colab": {
          "base_uri": "https://localhost:8080/"
        },
        "id": "8GRyS2nqqb2W",
        "outputId": "8df3f69e-3bfb-422f-a59f-aa10d888f0dc"
      },
      "outputs": [
        {
          "output_type": "stream",
          "name": "stdout",
          "text": [
            "The probability of picking two blue shirts is: 4/16 * 3/15 = 1/12, >  0.05\n"
          ]
        }
      ],
      "source": [
        "# prompt: we start with four blue shirts out of 16 total shirts, draw 2 blue shirts\n",
        "\n",
        "# Probability of drawing the first blue shirt: 4 blue shirts / 16 total shirts\n",
        "prob_first_blue = 4/16\n",
        "\n",
        "# After drawing one blue shirt, there are 3 blue shirts left and 15 total shirts\n",
        "prob_second_blue_given_first_blue = 3/15\n",
        "\n",
        "# Probability of drawing two blue shirts:\n",
        "prob_two_blue = prob_first_blue * prob_second_blue_given_first_blue\n",
        "\n",
        "print(f\"The probability of picking two blue shirts is: 4/16 * 3/15 = 1/12, >  {prob_two_blue}\")\n"
      ]
    },
    {
      "cell_type": "markdown",
      "metadata": {
        "id": "CR4FcU210OJ9"
      },
      "source": [
        "### Farmers Market (Simple)\n",
        "\n",
        "Reed loves going to the farmers market. Each week, he has an 18% chance of buying flowers, a 23% chance of buying apples, a 42% chance of buying a loaf of bread, and a 17% chance of buying tomatoes. Each decision is independent of his other decisions.\n",
        "\n",
        "What is the probability that Reed buys flowers and a loaf of bread?\n",
        "\n",
        "P(flowers and bread) = P(A) * P(B) = 0.18 * 0.42 = 0.0756\n",
        "The probability that Reed buys flowers and a loaf of bread is 7.56% (0.0756)"
      ]
    },
    {
      "cell_type": "markdown",
      "metadata": {
        "id": "Rwto3kqG023H"
      },
      "source": [
        "### Betting Game"
      ]
    },
    {
      "cell_type": "markdown",
      "metadata": {
        "id": "700YFoJI07T1"
      },
      "source": [
        "\n",
        "Jimmy and Jack are playing a betting game. If Jack rolls at least one 4 on three rolls of an eight-sided die, Jimmy will give him $5. What is the probability that Jack wins the bet?"
      ]
    },
    {
      "cell_type": "markdown",
      "metadata": {
        "id": "grBIoKoY2A_o"
      },
      "source": [
        "we do 1 - probability of no 4s\n",
        "we know the probability of not rolling a 4 is 7⁄8.\n"
      ]
    },
    {
      "cell_type": "code",
      "execution_count": null,
      "metadata": {
        "colab": {
          "base_uri": "https://localhost:8080/"
        },
        "id": "UwGZZKe71HOd",
        "outputId": "89030c17-6f11-4ed0-b30a-7a2de46a3800"
      },
      "outputs": [
        {
          "output_type": "stream",
          "name": "stdout",
          "text": [
            "The probability that Jack wins the bet is: 0.330078125\n"
          ]
        }
      ],
      "source": [
        "# prompt: Jimmy and Jack are playing a betting game. If Jack rolls at least one 4 on three rolls of an eight-sided die, Jimmy will give him $5. What is the probability that Jack wins the bet?\n",
        "\n",
        "\"\"\"Calculates the probability that Jack wins the bet.\"\"\"\n",
        "# Probability of NOT rolling a 4 on a single roll\n",
        "prob_no_4 = 7/8\n",
        "\n",
        "# Probability of NOT rolling a 4 on three rolls\n",
        "prob_no_4_three_times = prob_no_4 * prob_no_4 * prob_no_4\n",
        "prob_no_4_three_times = (prob_no_4)**3\n",
        "\n",
        "# Probability of rolling at least one 4 in three rolls\n",
        "prob_at_least_one_4 = 1 - prob_no_4_three_times\n",
        "\n",
        "\n",
        "# Calculate and print the probability\n",
        "probability = prob_at_least_one_4\n",
        "print(f\"The probability that Jack wins the bet is: {probability}\")\n"
      ]
    },
    {
      "cell_type": "markdown",
      "metadata": {
        "id": "VNqdupr75ilO"
      },
      "source": [
        "## Rule of Addition\n",
        "\n"
      ]
    },
    {
      "cell_type": "markdown",
      "metadata": {
        "id": "8LVvTnAL5yoQ"
      },
      "source": [
        "test"
      ]
    },
    {
      "cell_type": "markdown",
      "metadata": {
        "id": "Ywa9KLy-5-kM"
      },
      "source": [
        "### Check out book from a library"
      ]
    },
    {
      "cell_type": "markdown",
      "metadata": {
        "id": "DQ3byNaw6J3k"
      },
      "source": [
        "A student goes to the library. The probability that she checks out (a) a work of fiction is 0.40, (b) a work of non-fiction is 0.30, and (c) both fiction and non-fiction is 0.20. What is the probability that the student checks out a work of fiction, non-fiction, or both?"
      ]
    },
    {
      "cell_type": "code",
      "source": [
        "# prompt: A student goes to the library. The probability that she checks out (a) a work of fiction is 0.40, (b) a work of non-fiction is 0.30, and (c) both fiction and non-fiction is 0.20. What is the probability that the student checks out a work of fiction, non-fiction, or both?\n",
        "\n",
        "# Probability of fiction\n",
        "p_fiction = 0.40\n",
        "\n",
        "# Probability of non-fiction\n",
        "p_non_fiction = 0.30\n",
        "\n",
        "# Probability of both fiction and non-fiction\n",
        "p_both = 0.20\n",
        "\n",
        "# Probability of fiction or non-fiction or both\n",
        "p_either = p_fiction + p_non_fiction - p_both\n",
        "\n",
        "print(f\"The probability that the student checks out a work of fiction, non-fiction, or both is: {p_either}\")\n"
      ],
      "metadata": {
        "colab": {
          "base_uri": "https://localhost:8080/"
        },
        "id": "bY-15com8uC4",
        "outputId": "919fc315-555a-4866-c09f-4fca39532627"
      },
      "execution_count": null,
      "outputs": [
        {
          "output_type": "stream",
          "name": "stdout",
          "text": [
            "The probability that the student checks out a work of fiction, non-fiction, or both is: 0.49999999999999994\n"
          ]
        }
      ]
    },
    {
      "cell_type": "markdown",
      "source": [
        "### Students speak Spanish or Japanese"
      ],
      "metadata": {
        "id": "b4O46SMX700z"
      }
    },
    {
      "cell_type": "markdown",
      "source": [
        "At a local language school, 40% of the students are learning Spanish, 20% of the students are learning Japanese, and 8% of the students are learning both Spanish and Japanese.  What is the probability that a randomly selected student is learning Spanish or Japanese?"
      ],
      "metadata": {
        "id": "OiMOXxCn8lAW"
      }
    },
    {
      "cell_type": "code",
      "source": [
        "# prompt: At a local language school, 40% of the students are learning Spanish, 20% of the students are learning Japanese, and 8% of the students are learning both Spanish and Japanese. What is the probability that a randomly selected student is learning Spanish or Japanese?\n",
        "\n",
        "# Probability of learning Spanish\n",
        "p_spanish = 0.40\n",
        "\n",
        "# Probability of learning Japanese\n",
        "p_japanese = 0.20\n",
        "\n",
        "# Probability of learning both Spanish and Japanese\n",
        "p_both = 0.08\n",
        "\n",
        "# Probability of learning Spanish or Japanese\n",
        "p_either = p_spanish + p_japanese - p_both\n",
        "\n",
        "print(f\"The probability that a randomly selected student is learning Spanish or Japanese is: {p_either}\")\n"
      ],
      "metadata": {
        "colab": {
          "base_uri": "https://localhost:8080/"
        },
        "id": "HF8S3UMJ9mK8",
        "outputId": "ea05f7f4-24e3-4b70-b34e-9d637ecf3117"
      },
      "execution_count": null,
      "outputs": [
        {
          "output_type": "stream",
          "name": "stdout",
          "text": [
            "The probability that a randomly selected student is learning Spanish or Japanese is: 0.5200000000000001\n"
          ]
        }
      ]
    }
  ],
  "metadata": {
    "colab": {
      "provenance": []
    },
    "kernelspec": {
      "display_name": "Python 3",
      "name": "python3"
    },
    "language_info": {
      "name": "python"
    }
  },
  "nbformat": 4,
  "nbformat_minor": 0
}