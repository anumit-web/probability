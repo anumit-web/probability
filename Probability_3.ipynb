{
  "cells": [
    {
      "cell_type": "markdown",
      "metadata": {
        "id": "view-in-github"
      },
      "source": [
        "<a href=\"https://colab.research.google.com/github/anumit-web/ML-Analytics-Portfolio-2024/blob/main/3.%20A_B_Testing/A_B_testing_1.ipynb\" target=\"_parent\"><img src=\"https://colab.research.google.com/assets/colab-badge.svg\" alt=\"Open In Colab\"/></a>"
      ]
    },
    {
      "cell_type": "markdown",
      "metadata": {
        "id": "6O4nPYifWyAg"
      },
      "source": [
        "# Mathematics\n",
        "# Probability"
      ]
    },
    {
      "cell_type": "markdown",
      "source": [
        "combinations (order doesn’t matter) from permutations (order matters)."
      ],
      "metadata": {
        "id": "FqM0BhdRKdAz"
      }
    },
    {
      "cell_type": "markdown",
      "source": [
        "# Permutations"
      ],
      "metadata": {
        "id": "C6xDQiMRT1Un"
      }
    },
    {
      "cell_type": "markdown",
      "source": [
        "## Definition"
      ],
      "metadata": {
        "id": "j1Qd2PDiT9pA"
      }
    },
    {
      "cell_type": "markdown",
      "source": [
        "a way, especially one of several possible variations, in which a set or number of things can be ordered or arranged."
      ],
      "metadata": {
        "id": "InmMTIcjUA6B"
      }
    },
    {
      "cell_type": "markdown",
      "source": [
        "an arrangement of its members in a sequence or linear order,"
      ],
      "metadata": {
        "id": "zt3lGVeiUHRd"
      }
    },
    {
      "cell_type": "markdown",
      "source": [
        "A Permutation is an ordered Combination."
      ],
      "metadata": {
        "id": "zGObFylmggyt"
      }
    },
    {
      "cell_type": "markdown",
      "source": [
        "\"The combination to the safe is 472\". Now we do care about the order. \"724\" won't work, nor will \"247\". It has to be exactly 4-7-2."
      ],
      "metadata": {
        "id": "6fcMDoK7gc-A"
      }
    },
    {
      "cell_type": "markdown",
      "source": [
        "---"
      ],
      "metadata": {
        "id": "RvV9bU_ggpvN"
      }
    },
    {
      "cell_type": "markdown",
      "source": [
        "There are basically two types of permutation:\n",
        "\n",
        "Repetition is Allowed: such as the lock above. It could be \"333\".\n",
        "No Repetition: for example the first three people in a running race. You can't be first and second."
      ],
      "metadata": {
        "id": "B3-PjxzPgn1M"
      }
    },
    {
      "cell_type": "markdown",
      "source": [
        "n! / (n − r)!"
      ],
      "metadata": {
        "id": "ErkcuNgLi1zK"
      }
    },
    {
      "cell_type": "markdown",
      "source": [
        "---"
      ],
      "metadata": {
        "id": "wsrgflBqhG7h"
      }
    },
    {
      "cell_type": "markdown",
      "source": [
        "1. Permutations with Repetition\n",
        "\n",
        "\n",
        "These are the easiest to calculate.\n",
        "\n",
        "When a thing has n different types ... we have n choices each time!\n",
        "\n",
        "For example: choosing 3 of those things, the permutations are:\n",
        "\n",
        "n × n × n\n",
        "\n",
        "(n multiplied 3 times)"
      ],
      "metadata": {
        "id": "pzqI2cMug8TE"
      }
    },
    {
      "cell_type": "markdown",
      "source": [
        "---"
      ],
      "metadata": {
        "id": "haQMsVbYhJ9Z"
      }
    },
    {
      "cell_type": "markdown",
      "source": [
        "2. Permutations without Repetition\n",
        "\n",
        "\n",
        "In this case, we have to reduce the number of available choices each time."
      ],
      "metadata": {
        "id": "8lSsGSpchMgM"
      }
    },
    {
      "cell_type": "markdown",
      "source": [
        "# Examples of Permutations\n",
        "# without repetition"
      ],
      "metadata": {
        "id": "OwJHU6yPh3BH"
      }
    },
    {
      "cell_type": "markdown",
      "source": [
        "## what order could 16 pool balls be in?"
      ],
      "metadata": {
        "id": "lFqp99yPiB6G"
      }
    },
    {
      "cell_type": "code",
      "source": [
        "# prompt: what order could 16 pool balls be in?\n",
        "\n",
        "import math\n",
        "\n",
        "def permutations_without_repetition(n):\n",
        "  \"\"\"Calculates the number of permutations without repetition for n items.\"\"\"\n",
        "  return math.factorial(n)\n",
        "\n",
        "number_of_pool_balls = 16\n",
        "total_permutations = permutations_without_repetition(number_of_pool_balls)\n",
        "\n",
        "print(f\"There are {total_permutations} possible orders for 16 pool balls.\")\n"
      ],
      "metadata": {
        "colab": {
          "base_uri": "https://localhost:8080/"
        },
        "id": "OKmqkTVTiEOI",
        "outputId": "9759ff34-b2da-4f9d-dcba-4a2ef4f9a55a"
      },
      "execution_count": 81,
      "outputs": [
        {
          "output_type": "stream",
          "name": "stdout",
          "text": [
            "There are 20922789888000 possible orders for 16 pool balls.\n"
          ]
        }
      ]
    },
    {
      "cell_type": "markdown",
      "source": [
        "## what order could 16 pool balls be in if only 3 are selected?"
      ],
      "metadata": {
        "id": "soq9KMjFiTbQ"
      }
    },
    {
      "cell_type": "code",
      "source": [
        "# prompt: what order could 16 pool balls be in If only 3 selected\n",
        "\n",
        "import math\n",
        "\n",
        "def permutations_without_repetition_k(n, k):\n",
        "  \"\"\"Calculates the number of permutations without repetition for choosing k items from n.\"\"\"\n",
        "  return math.factorial(n) // math.factorial(n - k)\n",
        "\n",
        "number_of_pool_balls = 16\n",
        "number_selected = 3\n",
        "total_permutations = permutations_without_repetition_k(number_of_pool_balls, number_selected)\n",
        "\n",
        "print(f\"There are {total_permutations} possible orders for 3 out of 16 pool balls.\")\n"
      ],
      "metadata": {
        "colab": {
          "base_uri": "https://localhost:8080/"
        },
        "id": "8soyhYHxiZP6",
        "outputId": "6fd2b284-e3fa-48cf-ec29-aa0f620ccc61"
      },
      "execution_count": 82,
      "outputs": [
        {
          "output_type": "stream",
          "name": "stdout",
          "text": [
            "There are 3360 possible orders for 3 out of 16 pool balls.\n"
          ]
        }
      ]
    },
    {
      "cell_type": "markdown",
      "source": [
        "## How many words can be formed using the letters of the word TRIANGLES?"
      ],
      "metadata": {
        "id": "fRfgO8LBjeD8"
      }
    },
    {
      "cell_type": "code",
      "source": [
        "# answer = 9!\n",
        "\n",
        "# prompt: How many words can be formed using the letters of the word TRIANGLES?\n",
        "\n",
        "import math\n",
        "\n",
        "def count_permutations_with_repetition(word):\n",
        "    \"\"\"\n",
        "    Calculates the number of permutations of a word, considering repeated letters.\n",
        "    \"\"\"\n",
        "    n = len(word)\n",
        "    counts = {}\n",
        "    for char in word:\n",
        "        counts[char] = counts.get(char, 0) + 1\n",
        "\n",
        "    denominator = 1\n",
        "    for count in counts.values():\n",
        "        denominator *= math.factorial(count)\n",
        "\n",
        "    return math.factorial(n) // denominator\n",
        "\n",
        "word = \"TRIANGLES\"\n",
        "num_permutations = count_permutations_with_repetition(word)\n",
        "print(f\"The number of words that can be formed using the letters of the word '{word}' is: {num_permutations}\")\n"
      ],
      "metadata": {
        "colab": {
          "base_uri": "https://localhost:8080/"
        },
        "id": "7_hQqK8VjpRv",
        "outputId": "6760dd39-a37a-4970-e785-6a9efa7eec27"
      },
      "execution_count": 83,
      "outputs": [
        {
          "output_type": "stream",
          "name": "stdout",
          "text": [
            "The number of words that can be formed using the letters of the word 'TRIANGLES' is: 362880\n"
          ]
        }
      ]
    },
    {
      "cell_type": "markdown",
      "source": [
        "## How many words can be formed using the letters of the word TRIANGLES, If we fix T at the start and S at the end of the word"
      ],
      "metadata": {
        "id": "PvP5YS-1kYGR"
      }
    },
    {
      "cell_type": "code",
      "source": [
        "# prompt: How many words can be formed using the letters of the word TRIANGLES, If we fix T at the start and S at the end of the word\n",
        "\n",
        "import math\n",
        "\n",
        "def permutations_without_repetition_k(n, k):\n",
        "  \"\"\"Calculates the number of permutations without repetition for choosing k items from n.\"\"\"\n",
        "  return math.factorial(n) // math.factorial(n - k)\n",
        "\n",
        "# We fix T at the start and S at the end, so we have 8 remaining letters to arrange.\n",
        "remaining_letters = 8\n",
        "# We are choosing all 8 letters.\n",
        "total_permutations = math.factorial(remaining_letters)\n",
        "\n",
        "\n",
        "print(f\"The number of words that can be formed is: {total_permutations}\")\n"
      ],
      "metadata": {
        "colab": {
          "base_uri": "https://localhost:8080/"
        },
        "id": "Uw1LgDjlkhRh",
        "outputId": "5d653127-2566-43bb-b31c-3a131bbaaff8"
      },
      "execution_count": 84,
      "outputs": [
        {
          "output_type": "stream",
          "name": "stdout",
          "text": [
            "The number of words that can be formed is: 40320\n"
          ]
        }
      ]
    },
    {
      "cell_type": "code",
      "source": [
        "# WRONG ANSWER\n",
        "\n",
        "# prompt: How many words can be formed using the letters of the word TRIANGLES, if we fix T at the start and S at the end of the word\n",
        "\n",
        "import math\n",
        "\n",
        "def permutations_without_repetition_k(n, k):\n",
        "  \"\"\"Calculates the number of permutations without repetition for choosing k items from n.\"\"\"\n",
        "  return math.factorial(n) // math.factorial(n - k)\n",
        "\n",
        "# We fix T at the start and S at the end, so we have 8 remaining letters to arrange.\n",
        "remaining_letters = 8\n",
        "# We are choosing all 8 letters.\n",
        "total_permutations = math.factorial(remaining_letters)\n",
        "\n",
        "\n",
        "print(f\"The number of words that can be formed is: {total_permutations}\")\n"
      ],
      "metadata": {
        "colab": {
          "base_uri": "https://localhost:8080/"
        },
        "id": "Wj7zaz9Tlv8H",
        "outputId": "56ff27fe-d510-4926-dbd2-a21eaa3db32b"
      },
      "execution_count": 85,
      "outputs": [
        {
          "output_type": "stream",
          "name": "stdout",
          "text": [
            "The number of words that can be formed is: 40320\n"
          ]
        }
      ]
    },
    {
      "cell_type": "code",
      "source": [
        "\n",
        "import math\n",
        "\n",
        "# Define the word and the fixed letters\n",
        "word = \"TRIANGLES\"\n",
        "fixed_start = \"T\"\n",
        "fixed_end = \"S\"\n",
        "\n",
        "# Remove the fixed letters from the word\n",
        "# remaining_letters = [letter for letter in word if letter != fixed_start and letter != fixed_end]\n",
        "remaining_letters = \"RIANGLE\"\n",
        "\n",
        "# Calculate the number of arrangements (permutations) of the remaining letters\n",
        "num_arrangements = math.factorial(len(remaining_letters))\n",
        "\n",
        "# Output the result\n",
        "print(f\"Number of possible words: {num_arrangements}\")"
      ],
      "metadata": {
        "colab": {
          "base_uri": "https://localhost:8080/"
        },
        "id": "r0LM4hGlmMI7",
        "outputId": "60f19504-67b4-4c8a-92d7-c9138057285d"
      },
      "execution_count": 86,
      "outputs": [
        {
          "output_type": "stream",
          "name": "stdout",
          "text": [
            "Number of possible words: 5040\n"
          ]
        }
      ]
    },
    {
      "cell_type": "markdown",
      "source": [
        "## Combination lock ( 3 out of 50 )"
      ],
      "metadata": {
        "id": "ulEIHQQFm6HW"
      }
    },
    {
      "cell_type": "markdown",
      "source": [
        "A permutation lock will open if the right choice of 3 numbers (from 1 to 50) is selected. How many lock permutations can be made assuming no number is repeated?"
      ],
      "metadata": {
        "id": "9ZMnCITvnCUA"
      }
    },
    {
      "cell_type": "markdown",
      "source": [
        "We have 50 digits out of which we arrange 3 digits. We have the possibility of 50P3 ways."
      ],
      "metadata": {
        "id": "v61dTuExnNZP"
      }
    },
    {
      "cell_type": "code",
      "source": [
        "# prompst: A permutation lock will open if the right choice of 3 numbers (from 1 to 50) is selected. How many lock permutations can be made assuming no number is repeated?\n",
        "\n",
        "import math\n",
        "\n",
        "def permutations_without_repetition_k(n, k):\n",
        "  \"\"\"Calculates the number of permutations without repetition for choosing k items from n.\"\"\"\n",
        "  # solution 1\n",
        "  result = math.perm(n, k)\n",
        "  # solution 2\n",
        "  return math.factorial(n) // math.factorial(n - k)\n",
        "\n",
        "# Total numbers on the lock\n",
        "total_numbers = 50\n",
        "\n",
        "# Number of selections to open the lock\n",
        "number_selected = 3\n",
        "\n",
        "# Calculate the number of permutations\n",
        "total_permutations = permutations_without_repetition_k(total_numbers, number_selected)\n",
        "\n",
        "print(f\"There are {total_permutations} possible permutations for the lock.\")\n"
      ],
      "metadata": {
        "colab": {
          "base_uri": "https://localhost:8080/"
        },
        "id": "hDSpDduWnA-E",
        "outputId": "720641b0-800d-4c6f-ed6c-0aed4f205089"
      },
      "execution_count": 87,
      "outputs": [
        {
          "output_type": "stream",
          "name": "stdout",
          "text": [
            "There are 117600 possible permutations for the lock.\n"
          ]
        }
      ]
    },
    {
      "cell_type": "markdown",
      "source": [
        "## License plate (3 out of 5)"
      ],
      "metadata": {
        "id": "o1tKIWr_o86Y"
      }
    },
    {
      "cell_type": "markdown",
      "source": [
        "A license plate begins with three letters. If the possible letters are A, B, C, D and E, how many different permutations of these letters can be made if no letter is used more than once?"
      ],
      "metadata": {
        "id": "Nph1ktd_pMnd"
      }
    },
    {
      "cell_type": "markdown",
      "source": [
        "For the first letter, there are 5 possible choices. After that letter is chosen, there are 4 possible choices. Finally, there are 3 possible choices.\n",
        "5 × 4 × 3 = 60"
      ],
      "metadata": {
        "id": "eDAxgFnQpTy5"
      }
    },
    {
      "cell_type": "code",
      "source": [
        "# prompt: A license plate begins with three letters. If the possible letters are A, B, C, D and E, how many different permutations of these letters can be made if no letter is used more than once?\n",
        "\n",
        "def permutations_without_repetition_k(n, k):\n",
        "  \"\"\"Calculates the number of permutations without repetition for choosing k items from n.\"\"\"\n",
        "  # 1\n",
        "  result = math.perm(n,k)\n",
        "  # 2\n",
        "  return math.factorial(n) // math.factorial(n - k)\n",
        "\n",
        "# Total possible letters\n",
        "total_letters = 5\n",
        "\n",
        "# Number of letters in the license plate\n",
        "number_selected = 3\n",
        "\n",
        "# Calculate the number of permutations\n",
        "total_permutations = permutations_without_repetition_k(total_letters, number_selected)\n",
        "\n",
        "print(f\"There are {total_permutations} possible permutations for the license plate.\")\n"
      ],
      "metadata": {
        "colab": {
          "base_uri": "https://localhost:8080/"
        },
        "id": "l96oj41-pObK",
        "outputId": "c4300a08-9a8c-44b8-9a43-85f6f7e42272"
      },
      "execution_count": 88,
      "outputs": [
        {
          "output_type": "stream",
          "name": "stdout",
          "text": [
            "There are 60 possible permutations for the license plate.\n"
          ]
        }
      ]
    },
    {
      "cell_type": "markdown",
      "source": [
        "## In how many ways can a president, a treasurer and a secretary be chosen from among 7 candidates?\n",
        "\n"
      ],
      "metadata": {
        "id": "zyMs6xsnpzQl"
      }
    },
    {
      "cell_type": "markdown",
      "source": [
        "In how many ways can a president, a treasurer and a secretary be chosen from among 7 candidates?\n",
        "\n"
      ],
      "metadata": {
        "id": "WvGr9RGzp1hJ"
      }
    },
    {
      "cell_type": "markdown",
      "source": [
        "For the first position, there are 7 possible choices. After that candidate is chosen, there are 6 possible choices. Finally, there are 5 possible choices.\n",
        "7 × 6 × 5 = 210"
      ],
      "metadata": {
        "id": "h5RWCv58p5AZ"
      }
    },
    {
      "cell_type": "code",
      "source": [],
      "metadata": {
        "id": "V7SJVfuuqC3n"
      },
      "execution_count": 88,
      "outputs": []
    }
  ],
  "metadata": {
    "colab": {
      "provenance": []
    },
    "kernelspec": {
      "display_name": "Python 3",
      "name": "python3"
    },
    "language_info": {
      "name": "python"
    }
  },
  "nbformat": 4,
  "nbformat_minor": 0
}